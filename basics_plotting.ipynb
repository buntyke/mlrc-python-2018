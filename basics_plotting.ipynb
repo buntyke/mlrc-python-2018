{
 "cells": [
  {
   "cell_type": "markdown",
   "metadata": {
    "colab_type": "text",
    "id": "yuRC5oRtmfqw"
   },
   "source": [
    "# Python for Data Science\n",
    "\n",
    "In this notebook, we will explore the basics of using Python programming language for data science. These exercises are implemented in Ipython notebooks. [Ipython](https://ipython.org/) is an interactive envrionment for python programming commonly used for data science and machine learning. \n",
    "\n",
    "This notebook is adapted from the [Exploratory Computing course](https://github.com/mbakker7/exploratory_computing_with_python) by Mark Bakker. "
   ]
  },
  {
   "cell_type": "code",
   "execution_count": null,
   "metadata": {
    "colab": {
     "autoexec": {
      "startup": false,
      "wait_interval": 0
     }
    },
    "colab_type": "code",
    "id": "2aif1z-0Pqlx"
   },
   "outputs": [],
   "source": [
    "# this code is to create the data files for the exercises\n",
    "# you can ignore them\n",
    "import numpy as np\n",
    "tokyo_temperature = [6.0,6.0,9.0,14.5,19.0,22.5,26,27.5,24,18.5,13.0,8.0]\n",
    "np.savetxt('tokyo_temperature.txt', tokyo_temperature, delimiter=',')\n",
    "holland_temperature = [3.1,3.3,6.2,9.2,13.1,15.6,17.9,17.5,14.5,10.7,6.7,3.7]\n",
    "np.savetxt('holland_temperature.txt', holland_temperature, delimiter=',')\n",
    "newyork_temperature = [-1,0,4,10,16,21,24,23,19,13,7,2]\n",
    "np.savetxt('newyork_temperature.txt', newyork_temperature, delimiter=',')\n",
    "holland_seawater = [5.5,4.5,5.7,7.3,11.7,14.8,17.5,20.0,19.0,17.2,13.0,8.8]\n",
    "np.savetxt('holland_seawater.txt', holland_seawater, delimiter=',')\n"
   ]
  },
  {
   "cell_type": "markdown",
   "metadata": {
    "colab_type": "text",
    "id": "1qlINmWInWtT"
   },
   "source": [
    "## First Steps with Python\n",
    "\n",
    "Python is a popular, open-source programming language used for both scripting applications and standalone programs. For example, you can use Python as a calculator. Position your cursor in the code cell below and hit `shift+enter`. The output should be 12!"
   ]
  },
  {
   "cell_type": "code",
   "execution_count": null,
   "metadata": {
    "colab": {
     "autoexec": {
      "startup": false,
      "wait_interval": 0
     }
    },
    "colab_type": "code",
    "id": "vn28TQ2lnuMl"
   },
   "outputs": [],
   "source": [
    "6 * 2"
   ]
  },
  {
   "cell_type": "markdown",
   "metadata": {
    "colab_type": "text",
    "id": "LLbpxB8ZnwX3"
   },
   "source": [
    "When you are programming, you usually store your values in `variables`. These variables can also be used to perform arithematic operations."
   ]
  },
  {
   "cell_type": "code",
   "execution_count": null,
   "metadata": {
    "colab": {
     "autoexec": {
      "startup": false,
      "wait_interval": 0
     }
    },
    "colab_type": "code",
    "id": "RugmRsTppHzd"
   },
   "outputs": [],
   "source": [
    "a = 6\n",
    "b = 2\n",
    "a * b"
   ]
  },
  {
   "cell_type": "markdown",
   "metadata": {
    "colab_type": "text",
    "id": "NHAdC4eipJK1"
   },
   "source": [
    "Here `a` and `b` are variables. Each variable has a `type`. In this case, they are both `integer` type. To write the value of a variable to the screen, use the `print` function."
   ]
  },
  {
   "cell_type": "code",
   "execution_count": null,
   "metadata": {
    "colab": {
     "autoexec": {
      "startup": false,
      "wait_interval": 0
     }
    },
    "colab_type": "code",
    "id": "ib50TKOcpYIr"
   },
   "outputs": [],
   "source": [
    "print(a)\n",
    "print(b)\n",
    "print(a * b)\n",
    "print(a / b)"
   ]
  },
  {
   "cell_type": "markdown",
   "metadata": {
    "colab_type": "text",
    "id": "-kEzkcP3peZ2"
   },
   "source": [
    "You can add text to the `print` function by putting the text between quotes (either single or double quotes work). You can also add variables to the string by putting the variable name in `{}`."
   ]
  },
  {
   "cell_type": "code",
   "execution_count": null,
   "metadata": {
    "colab": {
     "autoexec": {
      "startup": false,
      "wait_interval": 0
     }
    },
    "colab_type": "code",
    "id": "nfqNg-C0pnpq"
   },
   "outputs": [],
   "source": [
    "print(f'Value of a is {a}')"
   ]
  },
  {
   "cell_type": "markdown",
   "metadata": {
    "colab_type": "text",
    "id": "tDFWlFq4pzc3"
   },
   "source": [
    "A variable can be raised to a power by using `**`."
   ]
  },
  {
   "cell_type": "code",
   "execution_count": null,
   "metadata": {
    "colab": {
     "autoexec": {
      "startup": false,
      "wait_interval": 0
     }
    },
    "colab_type": "code",
    "id": "gyR0wnVnqI_x"
   },
   "outputs": [],
   "source": [
    "a ** b"
   ]
  },
  {
   "cell_type": "markdown",
   "metadata": {
    "colab_type": "text",
    "id": "_wrsQ65vscXd"
   },
   "source": [
    "Division works as well. \n",
    "\n",
    "(Note for Python 2 users: `1/3` gives zero in Python 2, as the division of two integers returns an integer. Use `1.0/3` instead.)"
   ]
  },
  {
   "cell_type": "code",
   "execution_count": null,
   "metadata": {
    "colab": {
     "autoexec": {
      "startup": false,
      "wait_interval": 0
     }
    },
    "colab_type": "code",
    "id": "Xs_tz4yzso8W"
   },
   "outputs": [],
   "source": [
    "# for python2 use print('1/3 gives ', 1.0/3)\n",
    "print(f'1/3 gives {1 / 3}')"
   ]
  },
  {
   "cell_type": "markdown",
   "metadata": {
    "colab_type": "text",
    "id": "lQiMMfTnqKop"
   },
   "source": [
    "### Resources\n",
    "\n",
    "* Python supports several data-types other than integer. Please read more on the official documentation [page](https://docs.python.org/3/library/stdtypes.html#numeric-types-int-float-complex).\n",
    "* String manipulation and printing is straight forward. Documentation can be found for [print](https://docs.python.org/3/tutorial/inputoutput.html), [strings](https://docs.python.org/3/library/string.html).\n",
    "* A comprehensive list of arithematic operators and boolean operators are available [here](https://docs.python.org/3/library/stdtypes.html#numeric-types-int-float-complex)."
   ]
  },
  {
   "cell_type": "markdown",
   "metadata": {
    "colab_type": "text",
    "id": "vI6RjGqlr28P"
   },
   "source": [
    "### Exercise 1: First Python Code\n",
    "\n",
    "Compute the value of the polynomial $y=ax^2+bx+c$ at $x=-2$, $x=0$, and $x=2$ using $a=1$, $b=1$, $c=-6$.\n",
    "\n",
    "Hint: Create variables for a,b,c,x. Assign different values and evaluate the expression for each."
   ]
  },
  {
   "cell_type": "code",
   "execution_count": null,
   "metadata": {
    "colab": {
     "autoexec": {
      "startup": false,
      "wait_interval": 0
     }
    },
    "colab_type": "code",
    "id": "30y_u9m6sUk8"
   },
   "outputs": [],
   "source": [
    "# put your code here\n"
   ]
  },
  {
   "cell_type": "markdown",
   "metadata": {
    "colab_type": "text",
    "id": "0sp4OWfQCc0w"
   },
   "source": [
    "[Answer to Exercise 1](https://colab.research.google.com/drive/1-nwmcGnc-Oj56iHmrZFsU6tyJHunbd13#scrollTo=vNFHznAs4vqq)"
   ]
  },
  {
   "cell_type": "markdown",
   "metadata": {
    "colab_type": "text",
    "id": "JDV9oN_fsXTG"
   },
   "source": [
    "### More on Variables\n",
    "\n",
    "Once you create a variable in a Python session, it will remain in memory, so you can use it in other cells as well. For example, variable `a`, defined earlier in this Notebook, still exists. "
   ]
  },
  {
   "cell_type": "code",
   "execution_count": null,
   "metadata": {
    "colab": {
     "autoexec": {
      "startup": false,
      "wait_interval": 0
     }
    },
    "colab_type": "code",
    "id": "PlgY2cI-tQaS"
   },
   "outputs": [],
   "source": [
    "print(f'a: {a}')"
   ]
  },
  {
   "cell_type": "markdown",
   "metadata": {
    "colab_type": "text",
    "id": "-m9T-RL8tTQ0"
   },
   "source": [
    "It is important to keep these points in mind:\n",
    "* Variable names may be as long as you like. Using descriptive names helps in understanding the code. \n",
    "* Variable names cannot have spaces, nor can they start with a number. \n",
    "* Variable names are case sensitive. So the variable `avalue` is not the same as the variable `Avalue`. \n",
    "* Name of a variable can not be reserved words in the Python language. For example, it is not possible to create a variable `for = 7`, as `for` is a reserved word. "
   ]
  },
  {
   "cell_type": "markdown",
   "metadata": {
    "colab_type": "text",
    "id": "qYMkZceots2N"
   },
   "source": [
    "## Plotting and Arrays\n",
    "\n",
    "Plotting is not part of standard Python. Luckily, a package exist to create beautiful graphics. The graphics package we will use is called `matplotlib`. To be able to use the plotting functions in `matplotlib` we have to import it. We import the plotting part of `matplotlib` and call it `plt`. We also give a second command which tells Python to show any graphs inside this Notebook and not in a separate window."
   ]
  },
  {
   "cell_type": "code",
   "execution_count": null,
   "metadata": {
    "colab": {
     "autoexec": {
      "startup": false,
      "wait_interval": 0
     }
    },
    "colab_type": "code",
    "id": "t6ckVOVluHsG"
   },
   "outputs": [],
   "source": [
    "# import plotting part of matplotlib package as plt\n",
    "import matplotlib.pyplot as plt\n",
    "\n",
    "# this makes all matplotlib plots to be inside the notebook\n",
    "%matplotlib inline"
   ]
  },
  {
   "cell_type": "markdown",
   "metadata": {
    "colab_type": "text",
    "id": "C16oQwZQvs_f"
   },
   "source": [
    "Packages have to be imported only once in a Python session. After the import, any plotting function may be called from any code cell as `plt.function`:"
   ]
  },
  {
   "cell_type": "code",
   "execution_count": null,
   "metadata": {
    "colab": {
     "autoexec": {
      "startup": false,
      "wait_interval": 0
     }
    },
    "colab_type": "code",
    "id": "yiuRBBRfv7Ut"
   },
   "outputs": [],
   "source": [
    "# use the plot function of plt\n",
    "# this will create a graph and plot the contents of the list \n",
    "plt.plot([1, 2, 3, 2])"
   ]
  },
  {
   "cell_type": "markdown",
   "metadata": {
    "colab_type": "text",
    "id": "njjWZ1idwEZZ"
   },
   "source": [
    "Let's try to plot $y$ vs $x$ for $x$ going from $-4$ to $4$ for the polynomial in the exercise above. To do that, we need to evaluate $y$ at a bunch of points. A sequence of values is called an array (for example an array of integers or floats). Array functionality is available in the package `numpy`. Let's import `numpy` and call it `np`, so that any function in the `numpy` package may be called as `np.function`:"
   ]
  },
  {
   "cell_type": "code",
   "execution_count": null,
   "metadata": {
    "colab": {
     "autoexec": {
      "startup": false,
      "wait_interval": 0
     }
    },
    "colab_type": "code",
    "id": "WRvaJXA2wXgh"
   },
   "outputs": [],
   "source": [
    "# numpy package is used for array manipulation\n",
    "# we import numpy as np \n",
    "import numpy as np"
   ]
  },
  {
   "cell_type": "markdown",
   "metadata": {
    "colab_type": "text",
    "id": "MPttNSsmwv07"
   },
   "source": [
    "To create an array `x` consisting of 10 equally spaced points between `-4` and `4`, use the `linspace` command:"
   ]
  },
  {
   "cell_type": "code",
   "execution_count": null,
   "metadata": {
    "colab": {
     "autoexec": {
      "startup": false,
      "wait_interval": 0
     }
    },
    "colab_type": "code",
    "id": "Zt9QGOR3xuYN"
   },
   "outputs": [],
   "source": [
    "# create an array of 10 numbers from -4,4\n",
    "x = np.linspace(-4, 4, 10)\n",
    "\n",
    "# output the array here\n",
    "print(x)"
   ]
  },
  {
   "cell_type": "markdown",
   "metadata": {
    "colab_type": "text",
    "id": "YN6RotpCx5Tp"
   },
   "source": [
    "In the above cell, `x` is an array of 10 floats (`-4.` is a float, `-4` is an integer).\n",
    "If you type `np.linspace` and then a question mark:\n",
    "\n",
    "`np.linspace?` \n",
    "\n",
    "and then hit [shift-enter] a help window appears to explain the input arguments of the function. "
   ]
  },
  {
   "cell_type": "code",
   "execution_count": null,
   "metadata": {
    "colab": {
     "autoexec": {
      "startup": false,
      "wait_interval": 0
     }
    },
    "colab_type": "code",
    "id": "_YQ6uuTIykwr"
   },
   "outputs": [],
   "source": [
    "np.linspace?"
   ]
  },
  {
   "cell_type": "markdown",
   "metadata": {
    "colab_type": "text",
    "id": "qn1vbmRVynLk"
   },
   "source": [
    "Let's plot $y$ using 100 $x$ values from $-4$ to $4$."
   ]
  },
  {
   "cell_type": "code",
   "execution_count": null,
   "metadata": {
    "colab": {
     "autoexec": {
      "startup": false,
      "wait_interval": 0
     }
    },
    "colab_type": "code",
    "id": "1KBBqaONyy3B"
   },
   "outputs": [],
   "source": [
    "# initialize variables\n",
    "a = 1\n",
    "b = 1\n",
    "c = -6\n",
    "\n",
    "# define array of x values\n",
    "x = np.linspace(-4, 4, 100)\n",
    "\n",
    "# compute y for all x values\n",
    "y = a * x ** 2 + b * x + c  \n",
    "\n",
    "# plot y vs x\n",
    "plt.plot(x, y)"
   ]
  },
  {
   "cell_type": "markdown",
   "metadata": {
    "colab_type": "text",
    "id": "HIyR5MG8y8Ok"
   },
   "source": [
    "Note that  *one hundred* `y` values are computed in the simple line `y = a * x ** 2 + b * x + c`.  Python treats arrays in the same fashion as it treats regular variables when you perform mathematical operations. The math is simply applied to every value in the array (and it runs much faster than when you would do every calculation separately). "
   ]
  },
  {
   "cell_type": "markdown",
   "metadata": {
    "colab_type": "text",
    "id": "kh6QFENhzvxa"
   },
   "source": [
    "The `plot` function can take many arguments. Looking at the help box of the `plot` function gives you a lot of help. `plot` can be used with one argument as `plot(y)`, which plots `y` values along the vertical axis and enumerates the horizontal axis starting at 0. `plot(x, y)` plots `y` vs `x`, and `plot(x, y, formatstring)` plots `y` vs `x` using colors and markers defined in `formatstring`: \n",
    "* It can be used to define the color, for example `'b'` for blue \n",
    "* It can be used to define the linetype `'-'` for line \n",
    "* You can also define markers, for example `'o'` for circles. \n",
    "* You can even combine them: `'r--o'` gives a red dashed line with circle marker. "
   ]
  },
  {
   "cell_type": "markdown",
   "metadata": {
    "colab_type": "text",
    "id": "mnOToHrE1Myv"
   },
   "source": [
    "`plot` also takes a large number of keyword arguments. A keyword argument is an optional argument that may be added to a function. For example, to plot a line with width 6 (Note the formatting string):"
   ]
  },
  {
   "cell_type": "code",
   "execution_count": null,
   "metadata": {
    "colab": {
     "autoexec": {
      "startup": false,
      "wait_interval": 0
     }
    },
    "colab_type": "code",
    "id": "yqq9tsRb0Ilt"
   },
   "outputs": [],
   "source": [
    "# plot 3 points with the formatting string 'g:s'\n",
    "# green dotted line with square markers\n",
    "# use keywords linewidth, markersize\n",
    "plt.plot([1, 2, 3], [2, 4, 3], 'g:s', linewidth=6, markersize=25)"
   ]
  },
  {
   "cell_type": "markdown",
   "metadata": {
    "colab_type": "text",
    "id": "g3EZk8mp0zG9"
   },
   "source": [
    "Note: Keyword arguments should come after regular arguments. `plot(linewidth=6, [1, 2, 3], [2, 4, 3])` gives an error."
   ]
  },
  {
   "cell_type": "markdown",
   "metadata": {
    "colab_type": "text",
    "id": "yT5ZoXGB1xPF"
   },
   "source": [
    "* Names may be added along the axes with the `xlabel` and `ylabel` functions, e.g., `plt.xlabel('this is the x-axis')`.  \n",
    "* A title can be added to the figure with the `plt.title` command. \n",
    "* Multiple curves can be added to the same figure by giving multiple plotting commands. They are automatically added to the same figure."
   ]
  },
  {
   "cell_type": "markdown",
   "metadata": {
    "colab_type": "text",
    "id": "dqYul_0j1_1d"
   },
   "source": [
    "### Exercise 2: First Graph\n",
    "\n",
    "Plot $y=(x+2)(x-1)(x-2)$ for $x$ going from $-3$ to $3$ using a dashed red line. On the same figure, plot a blue circle for every point where $y$ equals zero. Set the size of the markers to 10 (you may need to read the help of `plt.plot` to find out how to do that). Label the axes as 'x-axis' and 'y-axis'. Add the title 'First nice Python figure of Your Name', where you enter your own name."
   ]
  },
  {
   "cell_type": "code",
   "execution_count": null,
   "metadata": {
    "colab": {
     "autoexec": {
      "startup": false,
      "wait_interval": 0
     }
    },
    "colab_type": "code",
    "id": "OvpJbOmB2h4B"
   },
   "outputs": [],
   "source": [
    "# put your code here\n"
   ]
  },
  {
   "cell_type": "markdown",
   "metadata": {
    "colab_type": "text",
    "id": "JRxGdD-RCrIX"
   },
   "source": [
    "[Answer to Exercise 2](https://colab.research.google.com/drive/1-nwmcGnc-Oj56iHmrZFsU6tyJHunbd13#scrollTo=WZ4cpFLc47gf&line=10&uniqifier=1)"
   ]
  },
  {
   "cell_type": "markdown",
   "metadata": {
    "colab_type": "text",
    "id": "vVtw80kL2nZL"
   },
   "source": [
    "## Loading Data Files\n",
    "\n",
    "Numerical data can be loaded from a data file using the `loadtxt` function of `numpy` with the command is `np.loadtxt`. You need to make sure the file is in the same directory as your notebook, or provide the full path. The filename (or path plus filename) needs to be between quotes. "
   ]
  },
  {
   "cell_type": "code",
   "execution_count": null,
   "metadata": {
    "colab": {
     "autoexec": {
      "startup": false,
      "wait_interval": 0
     }
    },
    "colab_type": "code",
    "id": "Myd_xXsL3dAm"
   },
   "outputs": [],
   "source": [
    "# read the documentation to learn more\n",
    "np.loadtxt?"
   ]
  },
  {
   "cell_type": "markdown",
   "metadata": {
    "colab_type": "text",
    "id": "hzqVXh0H2tJU"
   },
   "source": [
    "### Exercise 3: Loading Data\n",
    "\n",
    "You are provided with the data files containing monthly temperature of Tokyo, Holland and New York City. The data is stored in `tokyo_temperature.txt, holland_temperature.txt, newyork_temperature.txt`. Plot the temperature for each location against the number of the month (starting with 1 for January) all in a single graph. Add a legend by using the function `plt.legend`. \n",
    "\n",
    "Hint: Load the text files like `np.loadtxt('tokyo_temperature.txt')`. Read the documentation of `np.legend` to learn using it."
   ]
  },
  {
   "cell_type": "code",
   "execution_count": null,
   "metadata": {
    "colab": {
     "autoexec": {
      "startup": false,
      "wait_interval": 0
     }
    },
    "colab_type": "code",
    "id": "ng8WYHLP3Qsk"
   },
   "outputs": [],
   "source": [
    "# put your code here\n"
   ]
  },
  {
   "cell_type": "markdown",
   "metadata": {
    "colab_type": "text",
    "id": "zzNUjj_EC0Fs"
   },
   "source": [
    "[Answer to Exercise 3](https://colab.research.google.com/drive/1-nwmcGnc-Oj56iHmrZFsU6tyJHunbd13#scrollTo=N2x1EMB24-Vp&line=14&uniqifier=1)"
   ]
  },
  {
   "cell_type": "markdown",
   "metadata": {
    "colab_type": "text",
    "id": "7Bap7s4_BEwQ"
   },
   "source": [
    "## Gallery of Graphs\n",
    "\n",
    "The plotting package `matplotlib` allows you to make appealing graphs. Check out [matplotlib gallery](http://matplotlib.org/gallery.html) to get an overview of many of the options. Following exercises use several of the matplotlib options.\n"
   ]
  },
  {
   "cell_type": "markdown",
   "metadata": {
    "colab_type": "text",
    "id": "qnHdrWM6-EL1"
   },
   "source": [
    "### Exercise 4: Subplots and Markers\n",
    "\n",
    "Load the monthly air temperature and seawater temperature for Holland. Create one figure with two plots above each other using the subplot command (use `plt.subplot?`). On the top graph, plot the air and sea temperature. Label the ticks on the horizontal axis as 'jan', 'feb', 'mar', etc., rather than 0,1,2,etc. Use `plt.xticks?` to find out how. In the bottom graph, plot the difference between the air and seawater temperature.\n",
    "\n",
    "Hint: Filenames are `holland_seawater.txt, holland_temperature.txt`"
   ]
  },
  {
   "cell_type": "code",
   "execution_count": null,
   "metadata": {
    "colab": {
     "autoexec": {
      "startup": false,
      "wait_interval": 0
     }
    },
    "colab_type": "code",
    "id": "tjydcSTyA30a"
   },
   "outputs": [],
   "source": [
    "# put your code here\n"
   ]
  },
  {
   "cell_type": "markdown",
   "metadata": {
    "colab_type": "text",
    "id": "TDDPfc-rDArc"
   },
   "source": [
    "[Answer to Exercise 4](https://colab.research.google.com/drive/1-nwmcGnc-Oj56iHmrZFsU6tyJHunbd13#scrollTo=TZjQfVfu6Loh&line=10&uniqifier=1)"
   ]
  },
  {
   "cell_type": "markdown",
   "metadata": {
    "colab_type": "text",
    "id": "Hxu292Ge2940"
   },
   "source": [
    "### Exercise 5: Pie Chart\n",
    "\n",
    "At the 2012 London Olympics, the top ten countries (plus the rest) receiving gold medals were `['USA', 'CHN', 'GBR', 'RUS', 'KOR', 'GER', 'FRA', 'ITA', 'HUN', 'AUS', 'OTHER']`. They received  `[46, 38, 29, 24, 13, 11, 11, 8, 8, 7, 107]` gold medals, respectively. \n",
    "* Make a pie chart (check `plt.pie?`) of the top 10 gold medal winners plus the others at the London Olympics. \n",
    "* Try some keyword arguments to make the plot look nice. You may want to give the command `plt.axis('equal')` to make the scales along the horizontal and vertical axes equal so that the pie actually looks like a circle rather than an ellipse. \n",
    "* There are four different ways to specify colors in matplotlib plotting; you may read about it [here](http://matplotlib.org/examples/pylab_examples/color_demo.html). The coolest way is to use the html color names. \n",
    "* Use the `colors` keyword in your pie chart to specify a sequence of colors. The sequence must be between square brackets like `['MediumBlue','SpringGreen','BlueViolet']`. The html names for the colors may be found, for example, [here](http://en.wikipedia.org/wiki/Web_colors)."
   ]
  },
  {
   "cell_type": "code",
   "execution_count": null,
   "metadata": {
    "colab": {
     "autoexec": {
      "startup": false,
      "wait_interval": 0
     }
    },
    "colab_type": "code",
    "id": "EVOPJY-lCDCK"
   },
   "outputs": [],
   "source": [
    "# put your code here\n"
   ]
  },
  {
   "cell_type": "markdown",
   "metadata": {
    "colab_type": "text",
    "id": "35zG5XrhDKq9"
   },
   "source": [
    "[Answer to Exercise 5](https://colab.research.google.com/drive/1-nwmcGnc-Oj56iHmrZFsU6tyJHunbd13#scrollTo=HXom7Uzl_fTK&line=8&uniqifier=1)"
   ]
  },
  {
   "cell_type": "markdown",
   "metadata": {
    "colab_type": "text",
    "id": "DLUXoo_s3GOn"
   },
   "source": [
    "### Exercise 6: Fill Between\n",
    "\n",
    "Load the air and sea temperature, as used in Exercise 4, but this time make one plot of temperature vs month. \n",
    "* Use the `plt.fill_between` command to fill the space between the curve and the $x$-axis. \n",
    "* Specify the `alpha` keyword, which defines the transparancy.\n",
    "* Note that you need to specify the color using the `color` keyword argument."
   ]
  },
  {
   "cell_type": "code",
   "execution_count": null,
   "metadata": {
    "colab": {
     "autoexec": {
      "startup": false,
      "wait_interval": 0
     }
    },
    "colab_type": "code",
    "id": "3WK5J2G_CYAc"
   },
   "outputs": [],
   "source": [
    "# put your code here\n"
   ]
  },
  {
   "cell_type": "markdown",
   "metadata": {
    "colab_type": "text",
    "id": "IF7DhboTDPLB"
   },
   "source": [
    "[Answer to Exercise 6](https://colab.research.google.com/drive/1-nwmcGnc-Oj56iHmrZFsU6tyJHunbd13#scrollTo=2e_hOfOZ_zWr&line=11&uniqifier=1)"
   ]
  },
  {
   "cell_type": "markdown",
   "metadata": {
    "colab_type": "text",
    "id": "f_Xd7kQF3JEw"
   },
   "source": [
    "## Solutions\n",
    "\n",
    "The solutions to the exercises are available here. Please refrain from looking at them before solving the exercise."
   ]
  },
  {
   "cell_type": "code",
   "execution_count": null,
   "metadata": {
    "colab": {
     "autoexec": {
      "startup": false,
      "wait_interval": 0
     }
    },
    "colab_type": "code",
    "id": "vNFHznAs4vqq"
   },
   "outputs": [],
   "source": [
    "# solution to exercise 1\n",
    "\n",
    "# create variables\n",
    "a = 1\n",
    "b = 1\n",
    "c = -6\n",
    "\n",
    "# assign value to x\n",
    "x = -2\n",
    "\n",
    "# evaluate y\n",
    "y = a * x ** 2 + b * x + c\n",
    "\n",
    "# print the value\n",
    "print(f'y evaluated at x={x} is {y}')\n",
    "\n",
    "# re-evaluate y\n",
    "x = 0 \n",
    "y = a * x ** 2 + b * x + c\n",
    "print(f'y evaluated at x={x} is {y}')\n",
    "\n",
    "# re-evaluate y\n",
    "x = 2\n",
    "y = a * x ** 2 + b * x + c\n",
    "print(f'y evaluated at x={x} is {y}')"
   ]
  },
  {
   "cell_type": "code",
   "execution_count": null,
   "metadata": {
    "colab": {
     "autoexec": {
      "startup": false,
      "wait_interval": 0
     }
    },
    "colab_type": "code",
    "id": "WZ4cpFLc47gf"
   },
   "outputs": [],
   "source": [
    "# solution to exercise 2\n",
    "\n",
    "# variable for x data\n",
    "x = np.linspace(-3, 3, 100)\n",
    "\n",
    "# evaluate polynomial for x data\n",
    "y = (x + 2) * (x - 1) * (x - 2)\n",
    "\n",
    "# plot the polynomial\n",
    "plt.plot(x, y, 'r--')\n",
    "\n",
    "# plot the roots of the polynomial\n",
    "plt.plot([-2, 1, 2], [0, 0, 0], 'bo', markersize=10)\n",
    "\n",
    "# add labels and title\n",
    "plt.xlabel('x-axis')\n",
    "plt.ylabel('y-axis')\n",
    "plt.title('First Python Figure of MI Lab');"
   ]
  },
  {
   "cell_type": "code",
   "execution_count": null,
   "metadata": {
    "colab": {
     "autoexec": {
      "startup": false,
      "wait_interval": 0
     }
    },
    "colab_type": "code",
    "id": "N2x1EMB24-Vp"
   },
   "outputs": [],
   "source": [
    "# solution to exercise 3\n",
    "\n",
    "# load the temperature data from txt files\n",
    "tokyo = np.loadtxt('tokyo_temperature.txt')\n",
    "holland = np.loadtxt('holland_temperature.txt')\n",
    "newyork= np.loadtxt('newyork_temperature.txt')\n",
    "\n",
    "# create a variable for months\n",
    "months = np.linspace(1, 12, 12)\n",
    "\n",
    "# plot each city data\n",
    "plt.plot(months, tokyo)\n",
    "plt.plot(months, holland)\n",
    "plt.plot(months, newyork)\n",
    "\n",
    "# add labels to the plot\n",
    "plt.xlabel('Number of the month')\n",
    "plt.ylabel('Mean monthly temperature (Celcius)')\n",
    "\n",
    "# limit the x-range from 1 to 12\n",
    "plt.xlim(1, 12)\n",
    "\n",
    "# add a legend with the location decided by matplotlib\n",
    "plt.legend(['Tokyo','Holland','New York'], loc='best');"
   ]
  },
  {
   "cell_type": "code",
   "execution_count": null,
   "metadata": {
    "colab": {
     "autoexec": {
      "startup": false,
      "wait_interval": 0
     }
    },
    "colab_type": "code",
    "id": "TZjQfVfu6Loh"
   },
   "outputs": [],
   "source": [
    "# solution to exercise 4\n",
    "\n",
    "# load the variables\n",
    "air = np.loadtxt('holland_temperature.txt') \n",
    "sea = np.loadtxt('holland_seawater.txt')\n",
    "\n",
    "# create first subplot\n",
    "plt.subplot(211)\n",
    "\n",
    "# plot both files\n",
    "plt.plot(air, 'b', label='air temp')\n",
    "plt.plot(sea, 'r', label='sea temp')\n",
    "\n",
    "# add legend, labels, limits\n",
    "plt.legend(loc='best')\n",
    "plt.ylabel('temp (Celcius)')\n",
    "plt.xlim(0, 11)\n",
    "plt.xticks([])\n",
    "\n",
    "# create second subplot\n",
    "plt.subplot(212)\n",
    "\n",
    "# plot the difference\n",
    "plt.plot(air-sea, 'ko')\n",
    "\n",
    "# add labels and limits\n",
    "plt.xticks(np.linspace(0, 11, 12),\n",
    "           ['jan','feb','mar','apr','may','jun','jul','aug','sep','oct','nov','dec'])\n",
    "plt.xlim(0, 11)\n",
    "plt.ylabel('air - sea temp (Celcius)');"
   ]
  },
  {
   "cell_type": "code",
   "execution_count": null,
   "metadata": {
    "colab": {
     "autoexec": {
      "startup": false,
      "wait_interval": 0
     }
    },
    "colab_type": "code",
    "id": "HXom7Uzl_fTK"
   },
   "outputs": [],
   "source": [
    "# solution to exercise 5\n",
    "\n",
    "# create golde medals list\n",
    "gold = [46, 38, 29, 24, 13, 11, 11, 8, 8, 7, 107]\n",
    "\n",
    "# create countries list\n",
    "countries = ['USA', 'CHN', 'GBR', 'RUS', 'KOR', 'GER', 'FRA', 'ITA', 'HUN', 'AUS', 'OTHER']\n",
    "\n",
    "# generate pie plot with a list of colors argument\n",
    "plt.pie(gold, labels = countries, colors = ['Gold', 'MediumBlue', 'SpringGreen', 'BlueViolet'])\n",
    "\n",
    "# make the axes of equal size\n",
    "plt.axis('equal');"
   ]
  },
  {
   "cell_type": "code",
   "execution_count": null,
   "metadata": {
    "colab": {
     "autoexec": {
      "startup": false,
      "wait_interval": 0
     }
    },
    "colab_type": "code",
    "id": "2e_hOfOZ_zWr"
   },
   "outputs": [],
   "source": [
    "# solution to exercise 6\n",
    "\n",
    "# load the data files\n",
    "air = np.loadtxt('holland_temperature.txt') \n",
    "sea = np.loadtxt('holland_seawater.txt')\n",
    "\n",
    "# use fill_between to fill with color under the curve\n",
    "plt.fill_between(range(1, 13), air, color='b', alpha=0.3)\n",
    "plt.fill_between(range(1, 13), sea, color='r', alpha=0.3)\n",
    "\n",
    "# add labels, ticks and limits\n",
    "plt.xticks(np.linspace(0, 11, 12), ['jan', 'feb', 'mar', 'apr',\\\n",
    "           'may', 'jun', 'jul', 'aug', 'sep', ' oct', 'nov', 'dec'])\n",
    "plt.xlim(1, 12)\n",
    "plt.ylim(0, 20)\n",
    "plt.xlabel('Month')\n",
    "plt.ylabel('Temperature (Celcius)');"
   ]
  }
 ],
 "metadata": {
  "colab": {
   "collapsed_sections": [],
   "default_view": {},
   "name": "basics_plotting.ipynb",
   "provenance": [],
   "version": "0.3.2",
   "views": {}
  },
  "kernelspec": {
   "display_name": "Python 3",
   "language": "python",
   "name": "python3"
  },
  "language_info": {
   "codemirror_mode": {
    "name": "ipython",
    "version": 3
   },
   "file_extension": ".py",
   "mimetype": "text/x-python",
   "name": "python",
   "nbconvert_exporter": "python",
   "pygments_lexer": "ipython3",
   "version": "3.6.5"
  }
 },
 "nbformat": 4,
 "nbformat_minor": 1
}
