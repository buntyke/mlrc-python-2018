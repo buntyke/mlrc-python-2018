{
 "cells": [
  {
   "cell_type": "markdown",
   "metadata": {},
   "source": [
    "# Python for Datascience: Part 1"
   ]
  },
  {
   "cell_type": "markdown",
   "metadata": {},
   "source": [
    "Adapted from `CS231n` Python tutorial by Justin Johnson (http://cs231n.github.io/python-numpy-tutorial/)."
   ]
  },
  {
   "cell_type": "markdown",
   "metadata": {},
   "source": [
    "## Introduction"
   ]
  },
  {
   "cell_type": "markdown",
   "metadata": {},
   "source": [
    "Python is a general-purpose programming language which is commonly used for scientific computing. Some of you may have experience with Matlab. Please refer to [Numpy for Matlab users page](https://docs.scipy.org/doc/numpy-dev/user/numpy-for-matlab-users.html) for additional information."
   ]
  },
  {
   "cell_type": "markdown",
   "metadata": {},
   "source": [
    "In this tutorial, we will cover:\n",
    "\n",
    "* [Basic Python](#Basics-of-Python): Data types, Functions, Classes"
   ]
  },
  {
   "cell_type": "markdown",
   "metadata": {},
   "source": [
    "## Basics of Python"
   ]
  },
  {
   "cell_type": "markdown",
   "metadata": {},
   "source": [
    "Python is a high-level and dynamically typed programming language. Python code is almost like pseudocode, since it allows you to express ideas in few lines of readable code. As an example, here is an implementation of the quicksort algorithm in Python:"
   ]
  },
  {
   "cell_type": "code",
   "execution_count": null,
   "metadata": {},
   "outputs": [],
   "source": [
    "def quicksort(arr):\n",
    "    if len(arr) <= 1:\n",
    "        return arr\n",
    "    pivot = arr[len(arr) // 2]\n",
    "    left = [x for x in arr if x < pivot]\n",
    "    middle = [x for x in arr if x == pivot]\n",
    "    right = [x for x in arr if x > pivot]\n",
    "    return quicksort(left) + middle + quicksort(right)\n",
    "\n",
    "print quicksort([3,6,8,10,1,2,1])"
   ]
  },
  {
   "cell_type": "markdown",
   "metadata": {},
   "source": [
    "This section has the following subsection:\n",
    "* [Python versions](#Python-versions)\n",
    "* [Data types](#Data-types)\n",
    "* [Contrainers](#Containers)\n",
    "* [Functions](#Functions)\n",
    "* [Classes](#Classes)"
   ]
  },
  {
   "cell_type": "markdown",
   "metadata": {},
   "source": [
    "## Python versions"
   ]
  },
  {
   "cell_type": "markdown",
   "metadata": {},
   "source": [
    "There are currently two different supported versions of Python, 2.7 and 3.6. For this class all code will use Python 3.6. You can check your Python version at the command line by running `python --version`."
   ]
  },
  {
   "cell_type": "markdown",
   "metadata": {},
   "source": [
    "## Data types"
   ]
  },
  {
   "cell_type": "markdown",
   "metadata": {},
   "source": [
    "This subsection covers the following data types:\n",
    "* [Numbers](#Numbers)\n",
    "* [Booleans](#Booleans)\n",
    "* [Strings](#Strings)"
   ]
  },
  {
   "cell_type": "markdown",
   "metadata": {},
   "source": [
    "### Numbers"
   ]
  },
  {
   "cell_type": "markdown",
   "metadata": {},
   "source": [
    "Integers and float operations are similar to other programming languages. `print` function can provide the output of different operations and variables."
   ]
  },
  {
   "cell_type": "code",
   "execution_count": null,
   "metadata": {},
   "outputs": [],
   "source": [
    "# assign a variable\n",
    "x = 3\n",
    "\n",
    "# view variable value and type\n",
    "print(x, type(x))"
   ]
  },
  {
   "cell_type": "code",
   "execution_count": null,
   "metadata": {},
   "outputs": [],
   "source": [
    "# perform arithematic operation on variable\n",
    "# print can directly output value of operations\n",
    "\n",
    "# addition\n",
    "print(x+1)   \n",
    "\n",
    "# subtraction\n",
    "print(x-1)   \n",
    "\n",
    "# multiplication\n",
    "print(x*2)\n",
    "\n",
    "# exponentiation\n",
    "print(x ** 2)  "
   ]
  },
  {
   "cell_type": "code",
   "execution_count": null,
   "metadata": {},
   "outputs": [],
   "source": [
    "# assign output to variable\n",
    "x = 1\n",
    "\n",
    "# similar to x=x+1\n",
    "x+=1\n",
    "print(x)  \n",
    "\n",
    "# similar to x=x*2\n",
    "x *= 2\n",
    "print(x) \n",
    "\n",
    "# Note that Python does not have unary increment (x++) or decrement (x--) operators."
   ]
  },
  {
   "cell_type": "code",
   "execution_count": null,
   "metadata": {},
   "outputs": [],
   "source": [
    "# similar operations can also be performed on float variables\n",
    "y = 2.5\n",
    "print(type(y)) \n",
    "print(y, y+1, y*2, y**2) "
   ]
  },
  {
   "cell_type": "markdown",
   "metadata": {},
   "source": [
    "Python also has built-in types for long integers and complex numbers; you can find all of the details in the [documentation](https://docs.python.org/3/library/stdtypes.html#numeric-types-int-float-long-complex)."
   ]
  },
  {
   "cell_type": "markdown",
   "metadata": {},
   "source": [
    "### Booleans"
   ]
  },
  {
   "cell_type": "markdown",
   "metadata": {},
   "source": [
    "Python implements all of the usual operators for Boolean logic, but uses English words rather than symbols (`and` instead of `&&`, `or` instead of `||`, etc.):"
   ]
  },
  {
   "cell_type": "code",
   "execution_count": null,
   "metadata": {},
   "outputs": [],
   "source": [
    "# create boolean variables\n",
    "t, f = True, False\n",
    "print(type(t))"
   ]
  },
  {
   "cell_type": "code",
   "execution_count": null,
   "metadata": {},
   "outputs": [],
   "source": [
    "# examples of boolean operations\n",
    "\n",
    "# logical AND\n",
    "print(t and f)\n",
    "\n",
    "# logical OR\n",
    "print(t or f)\n",
    "\n",
    "# logical NOT\n",
    "print(not t)\n",
    "\n",
    "# logical XOR\n",
    "print(t != f)"
   ]
  },
  {
   "cell_type": "markdown",
   "metadata": {},
   "source": [
    "### Strings"
   ]
  },
  {
   "cell_type": "code",
   "execution_count": null,
   "metadata": {},
   "outputs": [],
   "source": [
    "# initialize string objects\n",
    "\n",
    "# string literals can use single quotes\n",
    "hello = 'hello'   \n",
    "\n",
    "# or double quotes; it does not matter.\n",
    "world = \"world\"   \n",
    "\n",
    "# output string variables\n",
    "print(hello, len(hello), type(hello))\n",
    "\n",
    "# output individual characters in string\n",
    "print(hello[0], type(hello[0]))"
   ]
  },
  {
   "cell_type": "code",
   "execution_count": null,
   "metadata": {},
   "outputs": [],
   "source": [
    "# string concatenation is similar to arithematic\n",
    "hw = hello + ' ' + world  \n",
    "\n",
    "# prints 'hello world'\n",
    "print(hw)  "
   ]
  },
  {
   "cell_type": "code",
   "execution_count": null,
   "metadata": {},
   "outputs": [],
   "source": [
    "# strings can also be formatted using this layout\n",
    "# this formatting is only valid for python 3.6\n",
    "hw12 = f'{hello} {world} {12}'\n",
    "\n",
    "# string formatting can also be done in the sprintf format\n",
    "hw13 = '%s %s %d' % (hello, world, 13)\n",
    "hw14 = '{} {} {}'.format(hello,world,14)\n",
    "\n",
    "# prints all the string outputs\n",
    "print(hw12, hw13, hw14)  "
   ]
  },
  {
   "cell_type": "markdown",
   "metadata": {},
   "source": [
    "String objects have several useful methods. For example:"
   ]
  },
  {
   "cell_type": "code",
   "execution_count": null,
   "metadata": {},
   "outputs": [],
   "source": [
    "s = \"hello\"\n",
    "\n",
    "# capitalize a string; prints \"Hello\"\n",
    "print(s.capitalize())\n",
    "\n",
    "# convert a string to uppercase; prints \"HELLO\"\n",
    "print(s.upper())\n",
    "\n",
    "# right-justify a string, padding with spaces; prints \"  hello\"\n",
    "print(s.rjust(7))\n",
    "\n",
    "# center a string, padding with spaces; prints \" hello \"\n",
    "print(s.center(7))\n",
    "\n",
    "# replace all instances of one substring with another; prints \"he(ell)(ell)o\"\n",
    "print(s.replace('l', '(ell)'))\n",
    "\n",
    "# strip leading and trailing whitespace; prints \"world\"\n",
    "print('  world '.strip())"
   ]
  },
  {
   "cell_type": "markdown",
   "metadata": {},
   "source": [
    "You can find a list of all string methods in the [documentation](https://docs.python.org/2/library/stdtypes.html#string-methods)."
   ]
  },
  {
   "cell_type": "markdown",
   "metadata": {},
   "source": [
    "## Containers"
   ]
  },
  {
   "cell_type": "markdown",
   "metadata": {},
   "source": [
    "Python includes several built-in container types. The following are covered in this subsection: \n",
    "* [Lists](#Lists) \n",
    "* [Dictionaries](#Dictionaries)"
   ]
  },
  {
   "cell_type": "markdown",
   "metadata": {},
   "source": [
    "### Lists"
   ]
  },
  {
   "cell_type": "markdown",
   "metadata": {},
   "source": [
    "A list is the Python equivalent of an array, but is resizeable and can contain elements of different types:"
   ]
  },
  {
   "cell_type": "code",
   "execution_count": null,
   "metadata": {},
   "outputs": [],
   "source": [
    "# create a list with numbers\n",
    "xs = [3, 1, 2]   \n",
    "\n",
    "# print the contents of the list\n",
    "print(xs, xs[2])\n",
    "\n",
    "# negative indices count from the end of the list; prints \"2\"\n",
    "print(xs[-1])     "
   ]
  },
  {
   "cell_type": "code",
   "execution_count": null,
   "metadata": {},
   "outputs": [],
   "source": [
    "# lists can contain elements of different types\n",
    "xs[2] = 'foo'    \n",
    "print(xs)"
   ]
  },
  {
   "cell_type": "code",
   "execution_count": null,
   "metadata": {},
   "outputs": [],
   "source": [
    "# add a new element to end of list using append\n",
    "xs.append('bar') \n",
    "print(xs)"
   ]
  },
  {
   "cell_type": "code",
   "execution_count": null,
   "metadata": {},
   "outputs": [],
   "source": [
    "# remove and return last element of list using pop\n",
    "x = xs.pop()     \n",
    "print(x, xs)"
   ]
  },
  {
   "cell_type": "markdown",
   "metadata": {},
   "source": [
    "Detailed information about lists is available in the [documentation](https://docs.python.org/2/tutorial/datastructures.html#more-on-lists)."
   ]
  },
  {
   "cell_type": "markdown",
   "metadata": {},
   "source": [
    "In addition to accessing list elements one at a time, Python provides concise syntax to access sublists; this is known as **slicing**:"
   ]
  },
  {
   "cell_type": "code",
   "execution_count": null,
   "metadata": {},
   "outputs": [],
   "source": [
    "# range is a built-in function that creates a list of integers from 0 to 4\n",
    "nums = range(5)    \n",
    "\n",
    "# prints \"[0, 1, 2, 3, 4]\"\n",
    "print(nums)         \n",
    "\n",
    "# get a slice from index 2 to 4 (exclusive); prints \"[2, 3]\"\n",
    "print(nums[2:4])\n",
    "\n",
    "# get a slice from index 2 to the end; prints \"[2, 3, 4]\"\n",
    "print(nums[2:])   \n",
    "\n",
    "# get a slice from the start to index 2 (exclusive); prints \"[0, 1]\"\n",
    "print(nums[:2])    \n",
    "\n",
    "# get a slice of the whole list; prints [\"0, 1, 2, 3, 4]\"\n",
    "print(nums[:])    \n",
    "\n",
    "# slice indices can be negative; prints [\"0, 1, 2, 3]\"\n",
    "print(nums[:-1])\n",
    "\n",
    "# assign a new sublist to a slice; prints \"[0, 1, 8, 9, 4]\"\n",
    "nums = [0,1,2,3,4]\n",
    "\n",
    "# range object does not allow sublist assignment so initializes new list\n",
    "nums[2:4] = [8, 9] \n",
    "print(nums)        "
   ]
  },
  {
   "cell_type": "markdown",
   "metadata": {},
   "source": [
    "It is also possible to **loop** over the elements of an array. This is done using the `for` keyword:"
   ]
  },
  {
   "cell_type": "code",
   "execution_count": null,
   "metadata": {},
   "outputs": [],
   "source": [
    "# define list of animals\n",
    "animals = ['cat', 'dog', 'monkey']\n",
    "\n",
    "# create for loop on elements of list\n",
    "for animal in animals:\n",
    "    # for each animal print its name\n",
    "    print(animal)"
   ]
  },
  {
   "cell_type": "code",
   "execution_count": null,
   "metadata": {},
   "outputs": [],
   "source": [
    "# to access index of each element within loop, use the built-in `enumerate` function:\n",
    "animals = ['cat', 'dog', 'monkey']\n",
    "\n",
    "# idx is the index of animal in the animals list\n",
    "for idx, animal in enumerate(animals):\n",
    "    print(f'#{idx+1}: {animal}')"
   ]
  },
  {
   "cell_type": "markdown",
   "metadata": {},
   "source": [
    "When programming, frequently we want to transform one type of data into another. As a simple example, consider the following code that computes square numbers:"
   ]
  },
  {
   "cell_type": "code",
   "execution_count": null,
   "metadata": {},
   "outputs": [],
   "source": [
    "# this code snippet computes square of every number in a list\n",
    "nums = [0, 1, 2, 3, 4]\n",
    "\n",
    "# new list for squares\n",
    "squares = []\n",
    "\n",
    "# for loop on nums list\n",
    "for x in nums:\n",
    "    squares.append(x ** 2)\n",
    "print(squares)"
   ]
  },
  {
   "cell_type": "markdown",
   "metadata": {},
   "source": [
    "You can make this code simpler using a **list comprehension**:"
   ]
  },
  {
   "cell_type": "code",
   "execution_count": null,
   "metadata": {},
   "outputs": [],
   "source": [
    "nums = [0, 1, 2, 3, 4]\n",
    "\n",
    "# this list comprehension replaces the for loop\n",
    "squares = [x ** 2 for x in nums]\n",
    "print(squares)"
   ]
  },
  {
   "cell_type": "markdown",
   "metadata": {},
   "source": [
    "List comprehensions can also contain conditions:"
   ]
  },
  {
   "cell_type": "code",
   "execution_count": null,
   "metadata": {},
   "outputs": [],
   "source": [
    "nums = [0, 1, 2, 3, 4]\n",
    "\n",
    "# only compute the square if the list element is an even number\n",
    "even_squares = [x ** 2 for x in nums if x % 2 == 0]\n",
    "print(even_squares)"
   ]
  },
  {
   "cell_type": "markdown",
   "metadata": {},
   "source": [
    "### Dictionaries"
   ]
  },
  {
   "cell_type": "markdown",
   "metadata": {},
   "source": [
    "A dictionary stores (key, value) pairs, similar to a `Map` in Java or an object in Javascript:"
   ]
  },
  {
   "cell_type": "code",
   "execution_count": null,
   "metadata": {},
   "outputs": [],
   "source": [
    "# create a new dictionary with some data\n",
    "d = {'cat': 'cute', 'dog': 'furry'}  \n",
    "\n",
    "# get the value for the key \"cat\" from dictionary; prints \"cute\"\n",
    "print(d['cat'])\n",
    "\n",
    "# check if dictionary has the key \"cat\"; prints \"True\"\n",
    "print('cat' in d)"
   ]
  },
  {
   "cell_type": "code",
   "execution_count": null,
   "metadata": {},
   "outputs": [],
   "source": [
    "# set a new entry in the dictionary\n",
    "d['fish'] = 'wet'    \n",
    "print(d['fish'])      "
   ]
  },
  {
   "cell_type": "code",
   "execution_count": null,
   "metadata": {},
   "outputs": [],
   "source": [
    "# checking for a key that is not in the dictionary causes an error\n",
    "# KeyError: 'monkey'\n",
    "print(d['monkey'])"
   ]
  },
  {
   "cell_type": "code",
   "execution_count": null,
   "metadata": {},
   "outputs": [],
   "source": [
    "# use get function to get the value for a key with a default option; prints \"N/A\"\n",
    "# this will not cause an error\n",
    "print(d.get('monkey', 'N/A'))  \n",
    "print(d.get('fish', 'N/A'))"
   ]
  },
  {
   "cell_type": "code",
   "execution_count": null,
   "metadata": {},
   "outputs": [],
   "source": [
    "# the del keyword removes an element from a dictionary\n",
    "del d['fish']        \n",
    "print(d.get('fish', 'N/A'))"
   ]
  },
  {
   "cell_type": "markdown",
   "metadata": {},
   "source": [
    "Additional information about dictionaries is available in the [documentation](https://docs.python.org/2/library/stdtypes.html#dict)."
   ]
  },
  {
   "cell_type": "markdown",
   "metadata": {},
   "source": [
    "It is easy to iterate over the keys in a dictionary:"
   ]
  },
  {
   "cell_type": "code",
   "execution_count": null,
   "metadata": {},
   "outputs": [],
   "source": [
    "# create example dictionary\n",
    "d = {'person': 2, 'cat': 4, 'spider': 8}\n",
    "\n",
    "# loop over the keys in dictionary\n",
    "for animal in d:\n",
    "    legs = d[animal]\n",
    "    print('A %s has %d legs' % (animal, legs))"
   ]
  },
  {
   "cell_type": "markdown",
   "metadata": {},
   "source": [
    "If you want access to keys and their corresponding values, use the items method:"
   ]
  },
  {
   "cell_type": "code",
   "execution_count": null,
   "metadata": {},
   "outputs": [],
   "source": [
    "# create example dictionary\n",
    "d = {'person': 2, 'cat': 4, 'spider': 8}\n",
    "\n",
    "# use items to get key and value\n",
    "for animal, legs in d.items():\n",
    "    print('A %s has %d legs' % (animal, legs))"
   ]
  },
  {
   "cell_type": "markdown",
   "metadata": {},
   "source": [
    "Dictionary comprehensions: These are similar to list comprehensions, but allow you to easily construct dictionaries. For example:"
   ]
  },
  {
   "cell_type": "code",
   "execution_count": null,
   "metadata": {},
   "outputs": [],
   "source": [
    "# create list of numbers\n",
    "nums = [0, 1, 2, 3, 4]\n",
    "\n",
    "# create dictionary with list using comprehension\n",
    "even_num_to_square = {x: x ** 2 for x in nums if x % 2 == 0}\n",
    "print(even_num_to_square)"
   ]
  },
  {
   "cell_type": "markdown",
   "metadata": {},
   "source": [
    "### Functions"
   ]
  },
  {
   "cell_type": "markdown",
   "metadata": {},
   "source": [
    "Python functions are defined using the `def` keyword. For example:"
   ]
  },
  {
   "cell_type": "code",
   "execution_count": null,
   "metadata": {},
   "outputs": [],
   "source": [
    "# function to check the sign of a number\n",
    "def sign(x):\n",
    "    # if-elif-else condition\n",
    "    if x > 0:\n",
    "        return 'positive'\n",
    "    elif x < 0:\n",
    "        return 'negative'\n",
    "    else:\n",
    "        return 'zero'\n",
    "\n",
    "# loop over list to apply function\n",
    "print([sign(x) for x in [-1,0,1]])"
   ]
  },
  {
   "cell_type": "markdown",
   "metadata": {},
   "source": [
    "We will often define functions to take optional keyword arguments, like this:"
   ]
  },
  {
   "cell_type": "code",
   "execution_count": null,
   "metadata": {},
   "outputs": [],
   "source": [
    "# function with an optional argument and default value as False\n",
    "def hello(name, loud=False):\n",
    "    if loud:\n",
    "        print('HELLO, %s' % name.upper())\n",
    "    else:\n",
    "        print('Hello, %s!' % name)\n",
    "\n",
    "# call function without opt argument\n",
    "hello('Bob')\n",
    "\n",
    "# function call with opt argument\n",
    "hello('Fred', loud=True)"
   ]
  },
  {
   "cell_type": "markdown",
   "metadata": {},
   "source": [
    "### Classes"
   ]
  },
  {
   "cell_type": "markdown",
   "metadata": {},
   "source": [
    "The syntax for defining classes in Python is straightforward:"
   ]
  },
  {
   "cell_type": "code",
   "execution_count": null,
   "metadata": {},
   "outputs": [],
   "source": [
    "class Greeter:\n",
    "    # Constructor\n",
    "    def __init__(self, name):\n",
    "        self.name = name  # Create an instance variable\n",
    "\n",
    "    # Instance method\n",
    "    def greet(self, loud=False):\n",
    "        if loud:\n",
    "            print('HELLO, %s!' % self.name.upper())\n",
    "        else:\n",
    "            print('Hello, %s' % self.name)\n",
    "\n",
    "g = Greeter('Fred')  # Construct an instance of the Greeter class\n",
    "g.greet()            # Call an instance method; prints \"Hello, Fred\"\n",
    "g.greet(loud=True)   # Call an instance method; prints \"HELLO, FRED!\""
   ]
  }
 ],
 "metadata": {
  "kernelspec": {
   "display_name": "Python 3",
   "language": "python",
   "name": "python3"
  },
  "language_info": {
   "codemirror_mode": {
    "name": "ipython",
    "version": 3
   },
   "file_extension": ".py",
   "mimetype": "text/x-python",
   "name": "python",
   "nbconvert_exporter": "python",
   "pygments_lexer": "ipython3",
   "version": "3.6.5"
  }
 },
 "nbformat": 4,
 "nbformat_minor": 1
}
