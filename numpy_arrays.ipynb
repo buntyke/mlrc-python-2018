{
 "cells": [
  {
   "cell_type": "markdown",
   "metadata": {},
   "source": [
    "# Python for Data Science\n",
    "\n",
    "In this notebook, we will explore the basics of using Python programming language for data science. These exercises are implemented in Ipython notebooks. [Ipython](https://ipython.org/) is an interactive envrionment for python programming commonly used for data science and machine learning. \n",
    "\n",
    "This notebook is adapted from the [Exploratory Computing course](https://github.com/mbakker7/exploratory_computing_with_python) by Mark Bakker. "
   ]
  },
  {
   "cell_type": "markdown",
   "metadata": {},
   "source": [
    "## Notebook 2: Arrays\n",
    "\n",
    "In this notebook, we will do math on arrays using functions of the `numpy` package. A nice overview of `numpy` functionality can be found [here](http://wiki.scipy.org/Tentative_NumPy_Tutorial). The exercises in this notebook will also require plotting and the packages required are called below."
   ]
  },
  {
   "cell_type": "code",
   "execution_count": null,
   "metadata": {},
   "outputs": [],
   "source": [
    "# import libraries\n",
    "import numpy as np\n",
    "import matplotlib.pyplot as plt\n",
    "\n",
    "%matplotlib inline"
   ]
  },
  {
   "cell_type": "code",
   "execution_count": null,
   "metadata": {},
   "outputs": [],
   "source": [
    "# this code is to generate the dataset for exercises\n",
    "# you can ignore it!\n",
    "data = np.random.uniform(low=-10.0,high=10.0,size=(1000,2))\n",
    "np.savetxt('xypoints.dat',data,fmt='%.2f',delimiter=',')"
   ]
  },
  {
   "cell_type": "markdown",
   "metadata": {},
   "source": [
    "### One-dimesional arrays\n",
    "There are many ways to create arrays using Numpy. For example, you can enter the individual elements of an array."
   ]
  },
  {
   "cell_type": "code",
   "execution_count": null,
   "metadata": {},
   "outputs": [],
   "source": [
    "# create an 1-dimensional array of size 4\n",
    "# add 4 elements to the array\n",
    "np.array([1, 7, 2, 12])"
   ]
  },
  {
   "cell_type": "markdown",
   "metadata": {},
   "source": [
    "* The `array` function takes one sequence of points between square brackets. \n",
    "* You can use `ones(shape)` to create an array of the specified `shape` filled with the value 1. \n",
    "* You can use `zeros(shape)` to create an array filled with the value 0. \n",
    "* Similar to the already mentioned `linspace` function there is the `arange(start, end, step)` function, which creates an array starting at `start`, taking steps equal to `step` and stopping before it reaches `end`."
   ]
  },
  {
   "cell_type": "code",
   "execution_count": null,
   "metadata": {},
   "outputs": [],
   "source": [
    "# takes default step of 1 and doesn't include 7\n",
    "print(np.arange(1, 7)) \n",
    "\n",
    "# starts at 0 end ends at 4, giving 5 numbers\n",
    "print(np.arange(5))"
   ]
  },
  {
   "cell_type": "markdown",
   "metadata": {},
   "source": [
    "Arrays have a dimension. So far we have only used one-dimensional arrays. Hence the dimension is 1. It is possible to compute the size of a 1-D array as follows:"
   ]
  },
  {
   "cell_type": "code",
   "execution_count": null,
   "metadata": {},
   "outputs": [],
   "source": [
    "# initialize array\n",
    "x = np.array([1, 7, 2, 12])\n",
    "\n",
    "# check number of dimensions of x\n",
    "print('number of dimensions of x:', np.ndim(x))\n",
    "\n",
    "# check the size of x\n",
    "print('length of x:', len(x))"
   ]
  },
  {
   "cell_type": "markdown",
   "metadata": {},
   "source": [
    "Individual elements of an array can be accessed with their index. Indices start at 0. "
   ]
  },
  {
   "cell_type": "code",
   "execution_count": null,
   "metadata": {},
   "outputs": [],
   "source": [
    "# create an array\n",
    "x = np.arange(20, 30)\n",
    "\n",
    "# print the complete array\n",
    "print(x)\n",
    "\n",
    "# print first element\n",
    "# indexing starts from 0!\n",
    "print(x[0])\n",
    "\n",
    "# print 6th element\n",
    "print(x[5])"
   ]
  },
  {
   "cell_type": "markdown",
   "metadata": {},
   "source": [
    "A range of indices may be specified using the colon syntax: `x[start:end_before]` or `x[start:end_before:step]`. If the `start` isn't specified, 0 will be used. If the step isn't specified, 1 will be used. "
   ]
  },
  {
   "cell_type": "code",
   "execution_count": null,
   "metadata": {},
   "outputs": [],
   "source": [
    "# create an array\n",
    "x = np.arange(20, 30)\n",
    "\n",
    "# print the complete array\n",
    "print(x)\n",
    "\n",
    "# get first 5 elements\n",
    "print(x[0:5])\n",
    "\n",
    "# same as previous line \n",
    "print(x[:5]) \n",
    "\n",
    "# get 4th to 7th elements\n",
    "print(x[3:7])\n",
    "\n",
    "# get every second element using step 2\n",
    "print(x[2:9:2]) "
   ]
  },
  {
   "cell_type": "markdown",
   "metadata": {},
   "source": [
    "You can also start at the end and count back. Generally, the index of the end is not known. You can find out how long the array is and access the last value by typing `x[len(x)-1]` but it would be inconvenient to have to type `len(arrayname)` all the time. Luckily, there is a shortcut: `x[-1]` is the last value in the array. "
   ]
  },
  {
   "cell_type": "code",
   "execution_count": null,
   "metadata": {},
   "outputs": [],
   "source": [
    "# create array with step 10\n",
    "xvalues = np.arange(0, 100, 10)\n",
    "\n",
    "# print the array\n",
    "print(xvalues)\n",
    "\n",
    "# print the last value in array\n",
    "print(xvalues[len(xvalues) - 1])  \n",
    "\n",
    "# same as previous line but shorter\n",
    "print(xvalues[-1])  \n",
    "\n",
    "# prints the array backwards\n",
    "# start at the end and go back with steps of -1\n",
    "print(xvalues[-1::-1])  "
   ]
  },
  {
   "cell_type": "markdown",
   "metadata": {},
   "source": [
    "You can assign one value to a range of an array by specifying a range of indices, \n",
    "or you can assign an array to a range of another array, as long as the ranges have equal length. "
   ]
  },
  {
   "cell_type": "code",
   "execution_count": null,
   "metadata": {},
   "outputs": [],
   "source": [
    "# create an array and fill with 20\n",
    "x = 20 * np.ones(10)\n",
    "print(x)\n",
    "\n",
    "# assign 40 to first 5 elements\n",
    "x[0:5] = 40\n",
    "print(x)\n",
    "\n",
    "# reassign new array to first 5 elements\n",
    "x[0:5] = np.arange(40, 50, 2)\n",
    "print(x)"
   ]
  },
  {
   "cell_type": "markdown",
   "metadata": {},
   "source": [
    "#### Exercise 1: Arrays and indices<a name=\"#back1\"></a>\n",
    "Create an array of zeros with length 20. \n",
    "* Change the first 5 values to 10. \n",
    "* Change the next 10 values to a sequence starting at 12 and increasig with steps of 2 to 30 - do this with one command. \n",
    "* Set the final 5 values to 30. \n",
    "* Plot the value of the array on the $y$-axis vs. the index of the array on the $x$-axis. \n",
    "* Draw vertical dashed lines at $x=4$ and $x=14$ (i.e, the section between the dashed lines is where the line increases from 10 to 30). \n",
    "* Set the minimum and maximum values of the $y$-axis to 8 and 32 using the `ylim` command."
   ]
  },
  {
   "cell_type": "code",
   "execution_count": null,
   "metadata": {},
   "outputs": [],
   "source": [
    "# put your code here\n"
   ]
  },
  {
   "cell_type": "markdown",
   "metadata": {},
   "source": [
    "[Answer for Exercise 1](#ex1answer)"
   ]
  },
  {
   "cell_type": "markdown",
   "metadata": {},
   "source": [
    "### Two-dimensional arrays\n",
    "Arrays may have arbitrary dimensions. We will make frequent use of two-dimensional arrays. They can be created with any of the aforementioned functions by specifying the number of rows and columns of the array. Note that the number of rows and columns must be a tuple!."
   ]
  },
  {
   "cell_type": "code",
   "execution_count": null,
   "metadata": {},
   "outputs": [],
   "source": [
    "# create an array with 3 rows and 4 columns\n",
    "# fill array with 1s\n",
    "x = np.ones((3, 4)) \n",
    "print(x)"
   ]
  },
  {
   "cell_type": "markdown",
   "metadata": {},
   "source": [
    "Arrays may also be defined by specifying all the values in the array. The `array` function gets passed one list consisting of separate lists for each row of the array. \n",
    "* In the example below the rows are entered on different lines. That may make it easier to enter the array, but it is not required. \n",
    "* You can change the size of an array to any shape using the `reshape` function as long as the total number of entries doesn't change. "
   ]
  },
  {
   "cell_type": "code",
   "execution_count": null,
   "metadata": {},
   "outputs": [],
   "source": [
    "# define array with different entries\n",
    "x = np.array([[4, 2, 3, 2],\n",
    "              [2, 4, 3, 1],\n",
    "              [0, 4, 1, 3]])\n",
    "\n",
    "# print the array\n",
    "print(x)\n",
    "\n",
    "# reshape array to 6 rows, 2 columns\n",
    "print(np.reshape(x, (6, 2)))\n",
    "\n",
    "# reshape array to 1 row, 12 columns\n",
    "print(np.reshape(x, (1, 12)))  "
   ]
  },
  {
   "cell_type": "markdown",
   "metadata": {},
   "source": [
    "The index of a two-dimensional array is specified with two values. First the row index, then the column index."
   ]
  },
  {
   "cell_type": "code",
   "execution_count": null,
   "metadata": {},
   "outputs": [],
   "source": [
    "# create array with zeros\n",
    "x = np.zeros((3, 8))\n",
    "print(x)\n",
    "\n",
    "# set element in 1st row and 1st column to 100\n",
    "x[0,0] = 100\n",
    "print(x)\n",
    "\n",
    "# set row with index 1, columns starting from 4 to 200\n",
    "x[1,4:] = 200\n",
    "print(x)\n",
    "\n",
    "# set row 2, columns from end until before 4 to 400\n",
    "x[2,-1:4:-1] = 400  \n",
    "print(x)"
   ]
  },
  {
   "cell_type": "markdown",
   "metadata": {},
   "source": [
    "#### Arrays are not matrices\n",
    "We may think that arrays are matrices, or that one-dimensional arrays are vectors. But, it is crucial to understand that *arrays are not vectors or matrices*. \n",
    "* In numpy, the multiplication and division of two arrays is term by term and not like matrix or vector operations."
   ]
  },
  {
   "cell_type": "code",
   "execution_count": null,
   "metadata": {},
   "outputs": [],
   "source": [
    "# create 2 1-d arrays\n",
    "a = np.arange(4, 20, 4)\n",
    "b = np.array([2, 2, 4, 4])\n",
    "\n",
    "# print the arrays\n",
    "print('array a:', a)\n",
    "print('array b:', b)\n",
    "\n",
    "# perform multiplication\n",
    "print('a * b  :', a * b)  \n",
    "\n",
    "# perform division\n",
    "print('a / b  :', a / b)  "
   ]
  },
  {
   "cell_type": "markdown",
   "metadata": {},
   "source": [
    "#### Exercise 2: Two-dimensional array indices\n",
    "For array `x` shown below, write code to print: \n",
    "\n",
    "* first row of `x`\n",
    "* first column of `x`\n",
    "* third row of `x`\n",
    "* last two columns of `x`\n",
    "* four values in the upper right hand corner of `x`\n",
    "* four values at the center of `x`\n",
    "\n",
    "`x = np.array([[4, 2, 3, 2],\n",
    "              [2, 4, 3, 1],\n",
    "              [2, 4, 1, 3],\n",
    "              [4, 1, 2, 3]])`"
   ]
  },
  {
   "cell_type": "code",
   "execution_count": null,
   "metadata": {},
   "outputs": [],
   "source": [
    "# put your code here\n"
   ]
  },
  {
   "cell_type": "markdown",
   "metadata": {},
   "source": [
    "[Answer for Exercise 2](#ex2answer)"
   ]
  },
  {
   "cell_type": "markdown",
   "metadata": {},
   "source": [
    "### Visualizing two-dimensional arrays\n",
    "Two-dimensonal arrays can be visualized with `plt.matshow` function. \n",
    "* A colorbar is added as a legend showing that the value 1 corresponds to blue and the value 4 corresponds to yellow. \n",
    "* Ticks in the colorbar are specified to be 1, 2, 3, and 4. \n",
    "* Note that the first row of the matrix (with index 0), is plotted at the top, which corresponds to the location of the first row in the matrix."
   ]
  },
  {
   "cell_type": "code",
   "execution_count": null,
   "metadata": {},
   "outputs": [],
   "source": [
    "# define 2-d array\n",
    "x = np.array([[8, 4, 6, 2],\n",
    "              [4, 8, 6, 2],\n",
    "              [4, 8, 2, 6],\n",
    "              [8, 2, 4, 6]])\n",
    "print(x)\n",
    "\n",
    "# use matshow to plot matrix\n",
    "plt.matshow(x)\n",
    "\n",
    "# add colorbar as legend to plot\n",
    "plt.colorbar(ticks=[2, 4, 6, 8])"
   ]
  },
  {
   "cell_type": "markdown",
   "metadata": {},
   "source": [
    "If you want other colors, you can choose one of the other color maps. To find out all the available color maps, go \n",
    "[here](http://matplotlib.org/examples/color/colormaps_reference.html). \n",
    "* To change the color map, you need to import the `cm` part of the matplotlib package, which contains all the color maps. \n",
    "* After you have imported the color map package (which we call `cm` below), you can specify any of the available color maps with the `cmap` keyword."
   ]
  },
  {
   "cell_type": "code",
   "execution_count": null,
   "metadata": {},
   "outputs": [],
   "source": [
    "# import the colormap subpackage\n",
    "import matplotlib.cm as cm\n",
    "\n",
    "# create new plot with rainbow color map\n",
    "plt.matshow(x, cmap=cm.rainbow)\n",
    "\n",
    "# add a legend\n",
    "plt.colorbar(ticks=np.arange(2, 9, 2));"
   ]
  },
  {
   "cell_type": "markdown",
   "metadata": {},
   "source": [
    "#### Exercise 3: Create and visualize an array\n",
    "Create an array of size 10 by 10. \n",
    "* The upper left-hand quadrant of the array should get the value 4, \n",
    "* the upper right-hand quadrant the value 3, \n",
    "* the lower right-hand quadrant the value 2,\n",
    "* the lower left-hand quadrant the value 1. \n",
    "\n",
    "First create an array of 10 by 10 using the `zeros` command, then fill each quadrant by specifying the correct index ranges. \n",
    "* Note that the first index is the row number. \n",
    "* The second index runs from left to right. \n",
    "\n",
    "Visualize the array using `matshow`. Use the `jet` colormap to plot the matrix."
   ]
  },
  {
   "cell_type": "code",
   "execution_count": null,
   "metadata": {},
   "outputs": [],
   "source": [
    "# put your code here\n"
   ]
  },
  {
   "cell_type": "markdown",
   "metadata": {},
   "source": [
    "[Answer for Exercise 3](#ex3answer)"
   ]
  },
  {
   "cell_type": "markdown",
   "metadata": {},
   "source": [
    "### Using Conditions on Arrays\n",
    "If you have a variable, you can check whether its value is smaller or larger than a certain other value. This is called a *conditional* statement."
   ]
  },
  {
   "cell_type": "code",
   "execution_count": null,
   "metadata": {},
   "outputs": [],
   "source": [
    "# create a variable\n",
    "a = 4\n",
    "\n",
    "# example of checking conditions\n",
    "print('a < 2:', a < 2)\n",
    "print('a > 2:', a > 2)"
   ]
  },
  {
   "cell_type": "markdown",
   "metadata": {},
   "source": [
    "The statement `a < 2` returns a variable of type boolean, which means it can either be `True` or `False`. \n",
    "* Besides smaller than or larger than, there are several other conditions you can use:"
   ]
  },
  {
   "cell_type": "code",
   "execution_count": null,
   "metadata": {},
   "outputs": [],
   "source": [
    "a = 4\n",
    "\n",
    "# check different possible conditions\n",
    "print(a < 4)\n",
    "\n",
    "# a is smaller than or equal to 4\n",
    "print(a <= 4) \n",
    "\n",
    "# a is equal to 4. Note: there are 2 equal signs\n",
    "print(a == 4) \n",
    "\n",
    "print(a >= 4) \n",
    "\n",
    "print(a > 4)\n",
    "\n",
    "# a is not equal to 4\n",
    "print(a != 4) "
   ]
  },
  {
   "cell_type": "markdown",
   "metadata": {},
   "source": [
    "It is important to understand the difference between one equal sign like `a=4` and two equal signs like `a==4`. \n",
    "* One equal sign means assignment. Whatever is on the right side of the equal sign is assigned to what is on the left side of the equal sign. \n",
    "* Two equal signs is a comparison and results in either `True` (when the left and right sides are equal) or `False`."
   ]
  },
  {
   "cell_type": "code",
   "execution_count": null,
   "metadata": {},
   "outputs": [],
   "source": [
    "# checking equality\n",
    "print(4 == 4)\n",
    "\n",
    "# assign a with output of equality condition\n",
    "a = 4 == 5\n",
    "\n",
    "# print output a\n",
    "print(a)\n",
    "print(type(a))"
   ]
  },
  {
   "cell_type": "markdown",
   "metadata": {},
   "source": [
    "You can also perform comparison statements on arrays, and it will return an array of booleans (`True` and `False` values) for each value in the array. \n",
    "* For example let's create an array and find out what values of the array are below 3,"
   ]
  },
  {
   "cell_type": "code",
   "execution_count": null,
   "metadata": {},
   "outputs": [],
   "source": [
    "# create array\n",
    "data = np.arange(5)\n",
    "print(data)\n",
    "\n",
    "# check for values less than 3\n",
    "print(data < 3)"
   ]
  },
  {
   "cell_type": "markdown",
   "metadata": {},
   "source": [
    "The statement `data<3` returns an array of type `boolean` that has the same length as the array `data` and for each item in the array it is either `True` or `False`. \n",
    "* Cool thing is that this array of `True` and `False` values can be used to specify the indices of an array,"
   ]
  },
  {
   "cell_type": "code",
   "execution_count": null,
   "metadata": {},
   "outputs": [],
   "source": [
    "# create an array\n",
    "a = np.arange(5)\n",
    "\n",
    "# select a subset of array a using boolean array\n",
    "b = np.array([ True, True, True, False, False ])\n",
    "\n",
    "# output is only the elements with true\n",
    "print(a[b])"
   ]
  },
  {
   "cell_type": "markdown",
   "metadata": {},
   "source": [
    "When the indices of an array are specified with a boolean array, only the values of the array where the boolean array is `True` are selected. \n",
    "* All values of an array that are less than, for example, 3 may be obtained by specifying a condition as the indices."
   ]
  },
  {
   "cell_type": "code",
   "execution_count": null,
   "metadata": {},
   "outputs": [],
   "source": [
    "# initialize array a\n",
    "a = np.arange(5)\n",
    "\n",
    "# print complete array\n",
    "print('complete array:', a)\n",
    "\n",
    "# print subarray with values less than 3\n",
    "print('values less than 3:', a[a < 3])"
   ]
  },
  {
   "cell_type": "markdown",
   "metadata": {},
   "source": [
    "If we want to replace all values that are less than 3 by, for example, the value 10, use the following short syntax:"
   ]
  },
  {
   "cell_type": "code",
   "execution_count": null,
   "metadata": {},
   "outputs": [],
   "source": [
    "# create an array\n",
    "a = np.arange(5)\n",
    "print(a)\n",
    "\n",
    "# replace values less than 3 with 10\n",
    "a[a < 3] = 10\n",
    "print(a)"
   ]
  },
  {
   "cell_type": "markdown",
   "metadata": {},
   "source": [
    "#### Exercise 4: Replace high and low in Arrays\n",
    "Create an array for variable $x$ consisting of 100 values from 0 to 20. \n",
    "* Compute $y=\\sin(x)$ and plot $y$ vs. $x$ with a blue line. \n",
    "* Next, replace all values of $y$ that are larger than 0.5 by 0.5, and all values that are smaller than $-$0.75 by $-0.75$. \n",
    "* Plot $x$ vs. $y$ using a red line on the same graph. "
   ]
  },
  {
   "cell_type": "code",
   "execution_count": null,
   "metadata": {},
   "outputs": [],
   "source": [
    "# put your code here\n"
   ]
  },
  {
   "cell_type": "markdown",
   "metadata": {},
   "source": [
    "[Answer to Exercise 4](#ex4answer)"
   ]
  },
  {
   "cell_type": "markdown",
   "metadata": {},
   "source": [
    "#### Exercise 5: Change marker color based on value\n",
    "Create an array for variable $x$ consisting of 100 points from 0 to 20 and compute $y=\\sin(x)$.\n",
    "* Plot a blue dot for every $y$ that is larger than zero, and a red dot otherwise"
   ]
  },
  {
   "cell_type": "code",
   "execution_count": null,
   "metadata": {},
   "outputs": [],
   "source": [
    "# put your code here\n"
   ]
  },
  {
   "cell_type": "markdown",
   "metadata": {},
   "source": [
    "[Answer to Exercise 5](#ex5answer)"
   ]
  },
  {
   "cell_type": "markdown",
   "metadata": {},
   "source": [
    "### Select indices based on multiple conditions\n",
    "Multiple conditions can be given as well: \n",
    "* When two conditions both have to be true, use the `&` symbol. \n",
    "* When at least one of the conditions needs to be true, use the '|' symbol. \n",
    "* For example, let's plot $y=\\sin(x)$ and plot blue markers when $y>0.7$ or $y<-0.5$ (using one plot statement), and a red marker when $-0.5\\le y\\le 0.7$. \n",
    "* When there are multiple conditions, they need to be between parenteses."
   ]
  },
  {
   "cell_type": "code",
   "execution_count": null,
   "metadata": {},
   "outputs": [],
   "source": [
    "# create array\n",
    "x = np.linspace(0, 6 * np.pi, 50)\n",
    "\n",
    "# get y data using sin function\n",
    "y = np.sin(x)\n",
    "\n",
    "# plot the output satisfying several conditions\n",
    "plt.plot(x[(y > 0.7) | (y < -0.5)], y[(y > 0.7) | (y < -0.5)], 'bo')\n",
    "plt.plot(x[(y > -0.5) & (y < 0.7)], y[(y > -0.5) & (y < 0.7)], 'ro');"
   ]
  },
  {
   "cell_type": "markdown",
   "metadata": {},
   "source": [
    "### Exercise 6: Multiple conditions \n",
    "The file `xypoints.dat` contains 1000 randomly chosen $x,y$ locations of points; both $x$ and $y$ vary between -10 and 10. \n",
    "* Load the data using `loadtxt`, and store the first row of the array in an array called `x` and the second row in an array called `y`. \n",
    "* First, plot a red dot for all points. \n",
    "* On the same graph, plot a blue dot for all $x,y$ points where $x<-2$ and $-5\\le y \\le 0$.\n",
    "* Finally, plot a green dot for any point that lies in the circle with center $(x_c,y_c)=(5,0)$ and with radius $R=5$. \n",
    "* Hint: it may be useful to compute a new array for the radial distance $r$ between any point and the center of the circle using the formula $r=\\sqrt{(x-x_c)^2+(y-y_c)^2}$. \n",
    "* Use the `plt.axis('equal')` command to make sure the scales along the two axes are equal and the circular area looks like a circle."
   ]
  },
  {
   "cell_type": "code",
   "execution_count": null,
   "metadata": {},
   "outputs": [],
   "source": [
    "# put your code here\n"
   ]
  },
  {
   "cell_type": "markdown",
   "metadata": {},
   "source": [
    "[Answer to Exercise 6](#ex6answer)"
   ]
  },
  {
   "cell_type": "markdown",
   "metadata": {},
   "source": [
    "### Exercise 7: Fix the error \n",
    "In the code below, it is meant to give the last 5 values of the array `x` the values [50,52,54,56,58] and print the result to the screen, but there are some errors in the code.\n",
    "* Remove the comment markers and run the code to see the error message. Then fix the code and run it again."
   ]
  },
  {
   "cell_type": "code",
   "execution_count": null,
   "metadata": {},
   "outputs": [],
   "source": [
    "# fix the code below\n",
    "\n",
    "#x = np.ones(10)\n",
    "#x[5:] = np.arange(50, 62, 1)\n",
    "#print(x)"
   ]
  },
  {
   "cell_type": "markdown",
   "metadata": {},
   "source": [
    "[Answer to Exercise 7](#ex7answer)"
   ]
  },
  {
   "cell_type": "markdown",
   "metadata": {},
   "source": [
    "### Solutions\n",
    "\n",
    "The solutions to the exercises are available here. Please refrain from looking at them before solving the exercise."
   ]
  },
  {
   "cell_type": "markdown",
   "metadata": {},
   "source": [
    "<a name=\"ex1answer\">Answer to Exercise 1</a>"
   ]
  },
  {
   "cell_type": "code",
   "execution_count": null,
   "metadata": {},
   "outputs": [],
   "source": [
    "# solution to exercise 1\n",
    "\n",
    "# create array\n",
    "x = np.zeros(20)\n",
    "\n",
    "# assign 10 to first 5 elements\n",
    "x[:5] = 10\n",
    "\n",
    "# assign range to next 10 elements\n",
    "x[5:15] = np.arange(12, 31, 2)\n",
    "\n",
    "# assign 30 till the end\n",
    "x[15:] = 30\n",
    "\n",
    "# plot the array\n",
    "plt.plot(x)\n",
    "\n",
    "# plot the dotted lines in the same graph\n",
    "plt.plot([4, 4], [8, 32],'k--')\n",
    "plt.plot([14, 14], [8, 32],'k--')\n",
    "\n",
    "# set the ylimit to the graph\n",
    "plt.ylim(8, 32);"
   ]
  },
  {
   "cell_type": "markdown",
   "metadata": {},
   "source": [
    "[Back to Exercise 1](#back1)\n",
    "\n",
    "<a name=\"ex2answer\">Answer to Exercise 2</a>"
   ]
  },
  {
   "cell_type": "code",
   "execution_count": null,
   "metadata": {},
   "outputs": [],
   "source": [
    "# solution to exercise 2\n",
    "\n",
    "# initialize the array in question\n",
    "x = np.array([[4, 2, 3, 2],\n",
    "              [2, 4, 3, 1],\n",
    "              [2, 4, 1, 3],\n",
    "              [4, 1, 2, 3]])\n",
    "\n",
    "# print first row\n",
    "print('the first row of x')\n",
    "print(x[0])\n",
    "\n",
    "# print first column\n",
    "print('the first column of x')\n",
    "print(x[:, 0])\n",
    "\n",
    "# print third row\n",
    "print('the third row of x')\n",
    "print(x[2])\n",
    "\n",
    "# print last two columns\n",
    "print('the last two columns of x')\n",
    "print(x[:, -2:])\n",
    "\n",
    "# print four values in corner\n",
    "print('the four values in the upper right hand corner')\n",
    "print(x[:2, 2:])\n",
    "\n",
    "# print four values in center\n",
    "print('the four values at the center of x')\n",
    "print(x[1:3, 1:3])"
   ]
  },
  {
   "cell_type": "markdown",
   "metadata": {},
   "source": [
    "[Back to Exercise 2](#back2)\n",
    "\n",
    "<a name=\"ex3answer\">Answer to Exercise 3</a>"
   ]
  },
  {
   "cell_type": "code",
   "execution_count": null,
   "metadata": {},
   "outputs": [],
   "source": [
    "# solution to exercise 3\n",
    "\n",
    "# create array\n",
    "x = np.zeros((10, 10))\n",
    "\n",
    "# assign values to 4 quadrants\n",
    "x[:5, :5] = 4\n",
    "x[:5, 5:] = 3\n",
    "x[5:, 5:] = 2\n",
    "x[5:, :5] = 1\n",
    "\n",
    "# print and show array\n",
    "print(x)\n",
    "plt.matshow(x)\n",
    "plt.colorbar(ticks=[1, 2, 3, 4]);"
   ]
  },
  {
   "cell_type": "markdown",
   "metadata": {},
   "source": [
    "[Back to Exercise 3](#back3)\n",
    "\n",
    "<a name=\"ex4answer\">Answer to Exercise 4</a>"
   ]
  },
  {
   "cell_type": "code",
   "execution_count": null,
   "metadata": {},
   "outputs": [],
   "source": [
    "# define x\n",
    "x = np.linspace(0, 20, 100)\n",
    "\n",
    "# compute y values using sin function\n",
    "y = np.sin(x)\n",
    "\n",
    "# plot x vs y\n",
    "plt.plot(x, y, 'b')\n",
    "\n",
    "# reassign values in array y\n",
    "y[y > 0.5] = 0.5\n",
    "y[y < -0.75] = -0.75\n",
    "\n",
    "# plot the new y\n",
    "plt.plot(x, y, 'r');"
   ]
  },
  {
   "cell_type": "markdown",
   "metadata": {},
   "source": [
    "[Back to Exercise 4](#back4)\n",
    "\n",
    "<a name=\"ex5answer\">Answer to Exercise 5</a>"
   ]
  },
  {
   "cell_type": "code",
   "execution_count": null,
   "metadata": {},
   "outputs": [],
   "source": [
    "# solution to exercise 5\n",
    "\n",
    "# define x\n",
    "x = np.linspace(0, 6 * np.pi, 50)\n",
    "\n",
    "# compute y values using sin function\n",
    "y = np.sin(x)\n",
    "\n",
    "# plot the blue markers\n",
    "plt.plot(x[y > 0], y[y > 0], 'bo')\n",
    "\n",
    "# plot the red markers\n",
    "plt.plot(x[y <= 0], y[y <= 0], 'ro');"
   ]
  },
  {
   "cell_type": "markdown",
   "metadata": {},
   "source": [
    "[Back to Exercise 5](#back5)\n",
    "\n",
    "<a name=\"ex6answer\">Answer to Exercise 6</a>"
   ]
  },
  {
   "cell_type": "code",
   "execution_count": null,
   "metadata": {},
   "outputs": [],
   "source": [
    "# solution to exercise 6\n",
    "\n",
    "# load the dataset\n",
    "data = np.loadtxt('xypoints.dat',delimiter=',')\n",
    "x = data[:,0]\n",
    "y = data[:,1]\n",
    "\n",
    "# plot dataset with red markers\n",
    "plt.plot(x, y, 'ro')\n",
    "\n",
    "# plot the points that satisfy condition\n",
    "plt.plot(x[(x < -2) & (y >= -5) & (y < 0)], y[(x < -2) & (y >= -5) & (y < 0)], 'bo')\n",
    "\n",
    "# compute the radius for all points\n",
    "r = np.sqrt((x - 5) ** 2 + y ** 2)\n",
    "\n",
    "# plot the points that satisfy radius condition\n",
    "plt.plot(x[r < 5], y[r < 5], 'go')\n",
    "\n",
    "# fix the scaling of plot\n",
    "plt.axis('scaled');"
   ]
  },
  {
   "cell_type": "markdown",
   "metadata": {},
   "source": [
    "[Back to Exercise 6](#back7)\n",
    "\n",
    "<a name=\"ex7answer\">Answer to Exercise 7</a>"
   ]
  },
  {
   "cell_type": "code",
   "execution_count": null,
   "metadata": {},
   "outputs": [],
   "source": [
    "# this is the corrected code snippet\n",
    "x = np.ones(10)\n",
    "x[5:] = np.arange(50, 60, 2)\n",
    "print(x)"
   ]
  },
  {
   "cell_type": "markdown",
   "metadata": {},
   "source": [
    "[Back to Exercise 7](#back7)"
   ]
  }
 ],
 "metadata": {
  "kernelspec": {
   "display_name": "Python 3",
   "language": "python",
   "name": "python3"
  },
  "language_info": {
   "codemirror_mode": {
    "name": "ipython",
    "version": 3
   },
   "file_extension": ".py",
   "mimetype": "text/x-python",
   "name": "python",
   "nbconvert_exporter": "python",
   "pygments_lexer": "ipython3",
   "version": "3.6.5"
  }
 },
 "nbformat": 4,
 "nbformat_minor": 1
}
